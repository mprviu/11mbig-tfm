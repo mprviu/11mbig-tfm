{
 "cells": [
  {
   "cell_type": "code",
   "execution_count": 1,
   "id": "detailed-raise",
   "metadata": {},
   "outputs": [],
   "source": [
    "import numpy as np\n",
    "import pandas as pd\n",
    "\n",
    "import matplotlib.pyplot as plt\n",
    "plt.style.use('fivethirtyeight')\n",
    "plt.rcParams['figure.figsize'] = [15, 8]\n",
    "\n",
    "import seaborn as sns\n",
    "sns.set(style=\"ticks\")"
   ]
  },
  {
   "cell_type": "code",
   "execution_count": 2,
   "id": "contained-rider",
   "metadata": {},
   "outputs": [],
   "source": [
    "# Directorio donde se encuentran los datos.\n",
    "DATA_RAW_PATH = \"../../data/raw/nooa/spain\"\n",
    "DATA_PROCESSED_PATH = \"../../data/processed/nooa/spain\"\n",
    "\n",
    "# Nombre de los ficheros CSV de entrada.\n",
    "FILE_ESTACIONES = \"estaciones.csv.xz\"\n",
    "FILE_DATOS = \"datos.csv.xz\""
   ]
  },
  {
   "cell_type": "code",
   "execution_count": 3,
   "id": "strong-volume",
   "metadata": {},
   "outputs": [
    {
     "name": "stdout",
     "output_type": "stream",
     "text": [
      "Dimensiones: (2953942, 5)\n"
     ]
    }
   ],
   "source": [
    "datos_columns = [\n",
    "    \"id_estacion\",\n",
    "    \"fecha\",\n",
    "    \"tmax\",\n",
    "    \"tmin\",\n",
    "    \"precip\",\n",
    "    \"nevada\",\n",
    "    \"prof_nieve\"\n",
    "]\n",
    "\n",
    "# Lectura y carga de los datos a un DataFrame pandas.\n",
    "datos = pd.read_csv(\"{}/{}\".format(DATA_RAW_PATH, FILE_DATOS),\n",
    "                    sep = \";\",\n",
    "                    header=None,\n",
    "                    names = datos_columns,\n",
    "                    index_col = [0, 1],\n",
    "                    parse_dates = [\"fecha\"],\n",
    "                    infer_datetime_format = True,\n",
    "                    compression=\"xz\")\n",
    "\n",
    "print(f\"Dimensiones: {datos.shape}\")"
   ]
  },
  {
   "cell_type": "code",
   "execution_count": 4,
   "id": "handy-metallic",
   "metadata": {},
   "outputs": [
    {
     "name": "stdout",
     "output_type": "stream",
     "text": [
      "Dimensiones: (207, 10)\n"
     ]
    }
   ],
   "source": [
    "estaciones_columns = [\n",
    "    \"id_estacion\",\n",
    "    \"longitud\",\n",
    "    \"latitud\",\n",
    "    \"altitud\",\n",
    "    \"dummy01\",\n",
    "    \"nombre\",\n",
    "    \"gsn\",\n",
    "    \"dummy02\",\n",
    "    \"dummy03\",\n",
    "    \"inicio\",\n",
    "    \"fin\"\n",
    "]\n",
    "\n",
    "# Lectura y carga de los datos a un DataFrame pandas.\n",
    "estaciones = pd.read_csv(\"{}/{}\".format(DATA_RAW_PATH, FILE_ESTACIONES),\n",
    "                         sep = \";\",\n",
    "                         header=None,\n",
    "                         names = estaciones_columns,\n",
    "                         index_col = 0,\n",
    "                         compression=\"xz\")\n",
    "\n",
    "print(f\"Dimensiones: {estaciones.shape}\")"
   ]
  },
  {
   "cell_type": "code",
   "execution_count": 5,
   "id": "brief-luther",
   "metadata": {},
   "outputs": [
    {
     "name": "stdout",
     "output_type": "stream",
     "text": [
      "<class 'pandas.core.frame.DataFrame'>\n",
      "MultiIndex: 2953942 entries, ('SP000003195', Timestamp('1920-01-01 00:00:00')) to ('SPW00014011', Timestamp('2005-12-17 00:00:00'))\n",
      "Data columns (total 5 columns):\n",
      " #   Column      Dtype  \n",
      "---  ------      -----  \n",
      " 0   tmax        float64\n",
      " 1   tmin        float64\n",
      " 2   precip      float64\n",
      " 3   nevada      float64\n",
      " 4   prof_nieve  float64\n",
      "dtypes: float64(5)\n",
      "memory usage: 130.9+ MB\n"
     ]
    }
   ],
   "source": [
    "datos.info()"
   ]
  },
  {
   "cell_type": "code",
   "execution_count": 6,
   "id": "acoustic-promotion",
   "metadata": {},
   "outputs": [
    {
     "data": {
      "text/html": [
       "<div>\n",
       "<style scoped>\n",
       "    .dataframe tbody tr th:only-of-type {\n",
       "        vertical-align: middle;\n",
       "    }\n",
       "\n",
       "    .dataframe tbody tr th {\n",
       "        vertical-align: top;\n",
       "    }\n",
       "\n",
       "    .dataframe thead th {\n",
       "        text-align: right;\n",
       "    }\n",
       "</style>\n",
       "<table border=\"1\" class=\"dataframe\">\n",
       "  <thead>\n",
       "    <tr style=\"text-align: right;\">\n",
       "      <th></th>\n",
       "      <th>tmax</th>\n",
       "      <th>tmin</th>\n",
       "      <th>precip</th>\n",
       "      <th>nevada</th>\n",
       "      <th>prof_nieve</th>\n",
       "    </tr>\n",
       "  </thead>\n",
       "  <tbody>\n",
       "    <tr>\n",
       "      <th>count</th>\n",
       "      <td>2.821753e+06</td>\n",
       "      <td>2.808019e+06</td>\n",
       "      <td>2.861705e+06</td>\n",
       "      <td>25898.000000</td>\n",
       "      <td>33005.000000</td>\n",
       "    </tr>\n",
       "    <tr>\n",
       "      <th>mean</th>\n",
       "      <td>2.002093e+02</td>\n",
       "      <td>9.905756e+01</td>\n",
       "      <td>1.683505e+01</td>\n",
       "      <td>0.033516</td>\n",
       "      <td>42.877594</td>\n",
       "    </tr>\n",
       "    <tr>\n",
       "      <th>std</th>\n",
       "      <td>7.851216e+01</td>\n",
       "      <td>6.797491e+01</td>\n",
       "      <td>5.978685e+01</td>\n",
       "      <td>1.383056</td>\n",
       "      <td>167.442243</td>\n",
       "    </tr>\n",
       "    <tr>\n",
       "      <th>min</th>\n",
       "      <td>-1.960000e+02</td>\n",
       "      <td>-9.990000e+02</td>\n",
       "      <td>0.000000e+00</td>\n",
       "      <td>0.000000</td>\n",
       "      <td>0.000000</td>\n",
       "    </tr>\n",
       "    <tr>\n",
       "      <th>25%</th>\n",
       "      <td>1.450000e+02</td>\n",
       "      <td>5.000000e+01</td>\n",
       "      <td>0.000000e+00</td>\n",
       "      <td>0.000000</td>\n",
       "      <td>0.000000</td>\n",
       "    </tr>\n",
       "    <tr>\n",
       "      <th>50%</th>\n",
       "      <td>2.000000e+02</td>\n",
       "      <td>1.000000e+02</td>\n",
       "      <td>0.000000e+00</td>\n",
       "      <td>0.000000</td>\n",
       "      <td>0.000000</td>\n",
       "    </tr>\n",
       "    <tr>\n",
       "      <th>75%</th>\n",
       "      <td>2.570000e+02</td>\n",
       "      <td>1.500000e+02</td>\n",
       "      <td>1.000000e+00</td>\n",
       "      <td>0.000000</td>\n",
       "      <td>0.000000</td>\n",
       "    </tr>\n",
       "    <tr>\n",
       "      <th>max</th>\n",
       "      <td>4.720000e+02</td>\n",
       "      <td>3.320000e+02</td>\n",
       "      <td>3.600000e+03</td>\n",
       "      <td>119.000000</td>\n",
       "      <td>2499.000000</td>\n",
       "    </tr>\n",
       "  </tbody>\n",
       "</table>\n",
       "</div>"
      ],
      "text/plain": [
       "               tmax          tmin        precip        nevada    prof_nieve\n",
       "count  2.821753e+06  2.808019e+06  2.861705e+06  25898.000000  33005.000000\n",
       "mean   2.002093e+02  9.905756e+01  1.683505e+01      0.033516     42.877594\n",
       "std    7.851216e+01  6.797491e+01  5.978685e+01      1.383056    167.442243\n",
       "min   -1.960000e+02 -9.990000e+02  0.000000e+00      0.000000      0.000000\n",
       "25%    1.450000e+02  5.000000e+01  0.000000e+00      0.000000      0.000000\n",
       "50%    2.000000e+02  1.000000e+02  0.000000e+00      0.000000      0.000000\n",
       "75%    2.570000e+02  1.500000e+02  1.000000e+00      0.000000      0.000000\n",
       "max    4.720000e+02  3.320000e+02  3.600000e+03    119.000000   2499.000000"
      ]
     },
     "execution_count": 6,
     "metadata": {},
     "output_type": "execute_result"
    }
   ],
   "source": [
    "datos.describe()"
   ]
  },
  {
   "cell_type": "code",
   "execution_count": 7,
   "id": "transsexual-bleeding",
   "metadata": {},
   "outputs": [
    {
     "name": "stdout",
     "output_type": "stream",
     "text": [
      "<class 'pandas.core.frame.DataFrame'>\n",
      "Index: 207 entries, SP000003195 to SPW00014011\n",
      "Data columns (total 10 columns):\n",
      " #   Column    Non-Null Count  Dtype  \n",
      "---  ------    --------------  -----  \n",
      " 0   longitud  207 non-null    float64\n",
      " 1   latitud   207 non-null    float64\n",
      " 2   altitud   207 non-null    float64\n",
      " 3   dummy01   0 non-null      float64\n",
      " 4   nombre    207 non-null    object \n",
      " 5   gsn       9 non-null      object \n",
      " 6   dummy02   0 non-null      float64\n",
      " 7   dummy03   84 non-null     float64\n",
      " 8   inicio    207 non-null    int64  \n",
      " 9   fin       207 non-null    int64  \n",
      "dtypes: float64(6), int64(2), object(2)\n",
      "memory usage: 17.8+ KB\n"
     ]
    }
   ],
   "source": [
    "estaciones.info()"
   ]
  },
  {
   "cell_type": "code",
   "execution_count": 8,
   "id": "great-hurricane",
   "metadata": {},
   "outputs": [
    {
     "data": {
      "text/html": [
       "<div>\n",
       "<style scoped>\n",
       "    .dataframe tbody tr th:only-of-type {\n",
       "        vertical-align: middle;\n",
       "    }\n",
       "\n",
       "    .dataframe tbody tr th {\n",
       "        vertical-align: top;\n",
       "    }\n",
       "\n",
       "    .dataframe thead th {\n",
       "        text-align: right;\n",
       "    }\n",
       "</style>\n",
       "<table border=\"1\" class=\"dataframe\">\n",
       "  <thead>\n",
       "    <tr style=\"text-align: right;\">\n",
       "      <th></th>\n",
       "      <th>longitud</th>\n",
       "      <th>latitud</th>\n",
       "      <th>altitud</th>\n",
       "      <th>dummy01</th>\n",
       "      <th>dummy02</th>\n",
       "      <th>dummy03</th>\n",
       "      <th>inicio</th>\n",
       "      <th>fin</th>\n",
       "    </tr>\n",
       "  </thead>\n",
       "  <tbody>\n",
       "    <tr>\n",
       "      <th>count</th>\n",
       "      <td>207.000000</td>\n",
       "      <td>207.000000</td>\n",
       "      <td>207.000000</td>\n",
       "      <td>0.0</td>\n",
       "      <td>0.0</td>\n",
       "      <td>84.000000</td>\n",
       "      <td>207.000000</td>\n",
       "      <td>207.000000</td>\n",
       "    </tr>\n",
       "    <tr>\n",
       "      <th>mean</th>\n",
       "      <td>40.405733</td>\n",
       "      <td>-1.738512</td>\n",
       "      <td>494.638647</td>\n",
       "      <td>NaN</td>\n",
       "      <td>NaN</td>\n",
       "      <td>15009.880952</td>\n",
       "      <td>1975.144928</td>\n",
       "      <td>2015.951691</td>\n",
       "    </tr>\n",
       "    <tr>\n",
       "      <th>std</th>\n",
       "      <td>3.155343</td>\n",
       "      <td>4.444118</td>\n",
       "      <td>585.856829</td>\n",
       "      <td>NaN</td>\n",
       "      <td>NaN</td>\n",
       "      <td>17599.599587</td>\n",
       "      <td>32.122162</td>\n",
       "      <td>13.123298</td>\n",
       "    </tr>\n",
       "    <tr>\n",
       "      <th>min</th>\n",
       "      <td>27.818900</td>\n",
       "      <td>-17.888900</td>\n",
       "      <td>1.000000</td>\n",
       "      <td>NaN</td>\n",
       "      <td>NaN</td>\n",
       "      <td>8001.000000</td>\n",
       "      <td>1896.000000</td>\n",
       "      <td>1947.000000</td>\n",
       "    </tr>\n",
       "    <tr>\n",
       "      <th>25%</th>\n",
       "      <td>39.917200</td>\n",
       "      <td>-4.016800</td>\n",
       "      <td>60.000000</td>\n",
       "      <td>NaN</td>\n",
       "      <td>NaN</td>\n",
       "      <td>8118.750000</td>\n",
       "      <td>1947.000000</td>\n",
       "      <td>2020.000000</td>\n",
       "    </tr>\n",
       "    <tr>\n",
       "      <th>50%</th>\n",
       "      <td>41.478900</td>\n",
       "      <td>0.326400</td>\n",
       "      <td>287.000000</td>\n",
       "      <td>NaN</td>\n",
       "      <td>NaN</td>\n",
       "      <td>8229.000000</td>\n",
       "      <td>1973.000000</td>\n",
       "      <td>2020.000000</td>\n",
       "    </tr>\n",
       "    <tr>\n",
       "      <th>75%</th>\n",
       "      <td>42.189750</td>\n",
       "      <td>1.516250</td>\n",
       "      <td>690.500000</td>\n",
       "      <td>NaN</td>\n",
       "      <td>NaN</td>\n",
       "      <td>8417.500000</td>\n",
       "      <td>2008.000000</td>\n",
       "      <td>2021.000000</td>\n",
       "    </tr>\n",
       "    <tr>\n",
       "      <th>max</th>\n",
       "      <td>43.566700</td>\n",
       "      <td>4.215600</td>\n",
       "      <td>2535.000000</td>\n",
       "      <td>NaN</td>\n",
       "      <td>NaN</td>\n",
       "      <td>60338.000000</td>\n",
       "      <td>2017.000000</td>\n",
       "      <td>2021.000000</td>\n",
       "    </tr>\n",
       "  </tbody>\n",
       "</table>\n",
       "</div>"
      ],
      "text/plain": [
       "         longitud     latitud      altitud  dummy01  dummy02       dummy03  \\\n",
       "count  207.000000  207.000000   207.000000      0.0      0.0     84.000000   \n",
       "mean    40.405733   -1.738512   494.638647      NaN      NaN  15009.880952   \n",
       "std      3.155343    4.444118   585.856829      NaN      NaN  17599.599587   \n",
       "min     27.818900  -17.888900     1.000000      NaN      NaN   8001.000000   \n",
       "25%     39.917200   -4.016800    60.000000      NaN      NaN   8118.750000   \n",
       "50%     41.478900    0.326400   287.000000      NaN      NaN   8229.000000   \n",
       "75%     42.189750    1.516250   690.500000      NaN      NaN   8417.500000   \n",
       "max     43.566700    4.215600  2535.000000      NaN      NaN  60338.000000   \n",
       "\n",
       "            inicio          fin  \n",
       "count   207.000000   207.000000  \n",
       "mean   1975.144928  2015.951691  \n",
       "std      32.122162    13.123298  \n",
       "min    1896.000000  1947.000000  \n",
       "25%    1947.000000  2020.000000  \n",
       "50%    1973.000000  2020.000000  \n",
       "75%    2008.000000  2021.000000  \n",
       "max    2017.000000  2021.000000  "
      ]
     },
     "execution_count": 8,
     "metadata": {},
     "output_type": "execute_result"
    }
   ],
   "source": [
    "estaciones.describe()"
   ]
  },
  {
   "cell_type": "markdown",
   "id": "detected-plenty",
   "metadata": {},
   "source": [
    "# Preprocesamiento\n",
    "\n",
    "* tmin: Valores inválidos a -999 los pongo a NaN. Luego se procesarán.\n",
    "* Columnas de nieve y precipitación:\n",
    "  * Pongo a cero los valores nulos.\n",
    "  * En el caso de nieve practicamente el 99% son nulos pero, aún así, no elimino las variables ya que son situaciones excepcionales que deben estar incluidas.\n",
    "* Finalmente, elimino las filas donde alguno de los campos de temperatura sea nulo."
   ]
  },
  {
   "cell_type": "code",
   "execution_count": 9,
   "id": "harmful-drinking",
   "metadata": {},
   "outputs": [
    {
     "name": "stdout",
     "output_type": "stream",
     "text": [
      "nevada                        : 99.12%\n",
      "prof_nieve                    : 98.88%\n",
      "tmin                          : 4.94%\n",
      "tmax                          : 4.48%\n",
      "precip                        : 3.12%\n"
     ]
    }
   ],
   "source": [
    "def show_missing_percentage(data, filter):\n",
    "    col_number = 0\n",
    "    pct_missing = {}\n",
    "    for col in data.columns:\n",
    "        pct_missing[col] = np.mean(data[col].isnull())\n",
    "    for col in sorted(pct_missing, key=pct_missing.__getitem__, reverse=True):\n",
    "        if pct_missing[col] > filter:\n",
    "            col_number += 1\n",
    "            print('{: <30}: {}%'.format(col, round(pct_missing[col]*100, 2)))\n",
    "    if col_number == 0:\n",
    "        print(\"Ninguna variable tiene valores perdidos por encima del {}%\".format(filter*100))\n",
    "            \n",
    "show_missing_percentage(datos, 0)"
   ]
  },
  {
   "cell_type": "code",
   "execution_count": 10,
   "id": "defined-coach",
   "metadata": {},
   "outputs": [],
   "source": [
    "datos.loc[datos[\"tmin\"] == -999, \"tmin\"] = None"
   ]
  },
  {
   "cell_type": "code",
   "execution_count": 11,
   "id": "destroyed-madrid",
   "metadata": {},
   "outputs": [],
   "source": [
    "columns = [\"precip\", \"nevada\", \"prof_nieve\"]\n",
    "for column in columns:\n",
    "    datos.loc[datos[column].isna(), column] = 0"
   ]
  },
  {
   "cell_type": "code",
   "execution_count": 12,
   "id": "medical-looking",
   "metadata": {},
   "outputs": [],
   "source": [
    "datos.dropna(how=\"any\", inplace=True)"
   ]
  },
  {
   "cell_type": "code",
   "execution_count": 13,
   "id": "wanted-wallace",
   "metadata": {},
   "outputs": [
    {
     "name": "stdout",
     "output_type": "stream",
     "text": [
      "Ninguna variable tiene valores perdidos por encima del 0%\n"
     ]
    }
   ],
   "source": [
    "show_missing_percentage(datos, 0)"
   ]
  },
  {
   "cell_type": "code",
   "execution_count": 14,
   "id": "virgin-carolina",
   "metadata": {},
   "outputs": [
    {
     "name": "stdout",
     "output_type": "stream",
     "text": [
      "<class 'pandas.core.frame.DataFrame'>\n",
      "MultiIndex: 2778702 entries, ('SP000003195', Timestamp('1920-01-01 00:00:00')) to ('SPW00014011', Timestamp('1967-12-31 00:00:00'))\n",
      "Data columns (total 5 columns):\n",
      " #   Column      Dtype  \n",
      "---  ------      -----  \n",
      " 0   tmax        float64\n",
      " 1   tmin        float64\n",
      " 2   precip      float64\n",
      " 3   nevada      float64\n",
      " 4   prof_nieve  float64\n",
      "dtypes: float64(5)\n",
      "memory usage: 123.3+ MB\n"
     ]
    }
   ],
   "source": [
    "datos.info()"
   ]
  },
  {
   "cell_type": "code",
   "execution_count": 15,
   "id": "undefined-cabin",
   "metadata": {},
   "outputs": [
    {
     "data": {
      "text/html": [
       "<div>\n",
       "<style scoped>\n",
       "    .dataframe tbody tr th:only-of-type {\n",
       "        vertical-align: middle;\n",
       "    }\n",
       "\n",
       "    .dataframe tbody tr th {\n",
       "        vertical-align: top;\n",
       "    }\n",
       "\n",
       "    .dataframe thead th {\n",
       "        text-align: right;\n",
       "    }\n",
       "</style>\n",
       "<table border=\"1\" class=\"dataframe\">\n",
       "  <thead>\n",
       "    <tr style=\"text-align: right;\">\n",
       "      <th></th>\n",
       "      <th>tmax</th>\n",
       "      <th>tmin</th>\n",
       "      <th>precip</th>\n",
       "      <th>nevada</th>\n",
       "      <th>prof_nieve</th>\n",
       "    </tr>\n",
       "  </thead>\n",
       "  <tbody>\n",
       "    <tr>\n",
       "      <th>count</th>\n",
       "      <td>2.778702e+06</td>\n",
       "      <td>2.778702e+06</td>\n",
       "      <td>2.778702e+06</td>\n",
       "      <td>2.778702e+06</td>\n",
       "      <td>2.778702e+06</td>\n",
       "    </tr>\n",
       "    <tr>\n",
       "      <th>mean</th>\n",
       "      <td>2.001745e+02</td>\n",
       "      <td>9.876497e+01</td>\n",
       "      <td>1.643283e+01</td>\n",
       "      <td>2.929425e-04</td>\n",
       "      <td>4.788466e-01</td>\n",
       "    </tr>\n",
       "    <tr>\n",
       "      <th>std</th>\n",
       "      <td>7.857347e+01</td>\n",
       "      <td>6.783950e+01</td>\n",
       "      <td>5.910200e+01</td>\n",
       "      <td>1.299941e-01</td>\n",
       "      <td>1.830345e+01</td>\n",
       "    </tr>\n",
       "    <tr>\n",
       "      <th>min</th>\n",
       "      <td>-1.960000e+02</td>\n",
       "      <td>-3.000000e+02</td>\n",
       "      <td>0.000000e+00</td>\n",
       "      <td>0.000000e+00</td>\n",
       "      <td>0.000000e+00</td>\n",
       "    </tr>\n",
       "    <tr>\n",
       "      <th>25%</th>\n",
       "      <td>1.450000e+02</td>\n",
       "      <td>5.000000e+01</td>\n",
       "      <td>0.000000e+00</td>\n",
       "      <td>0.000000e+00</td>\n",
       "      <td>0.000000e+00</td>\n",
       "    </tr>\n",
       "    <tr>\n",
       "      <th>50%</th>\n",
       "      <td>2.000000e+02</td>\n",
       "      <td>1.000000e+02</td>\n",
       "      <td>0.000000e+00</td>\n",
       "      <td>0.000000e+00</td>\n",
       "      <td>0.000000e+00</td>\n",
       "    </tr>\n",
       "    <tr>\n",
       "      <th>75%</th>\n",
       "      <td>2.570000e+02</td>\n",
       "      <td>1.500000e+02</td>\n",
       "      <td>1.000000e+00</td>\n",
       "      <td>0.000000e+00</td>\n",
       "      <td>0.000000e+00</td>\n",
       "    </tr>\n",
       "    <tr>\n",
       "      <th>max</th>\n",
       "      <td>4.720000e+02</td>\n",
       "      <td>3.320000e+02</td>\n",
       "      <td>3.600000e+03</td>\n",
       "      <td>1.190000e+02</td>\n",
       "      <td>2.499000e+03</td>\n",
       "    </tr>\n",
       "  </tbody>\n",
       "</table>\n",
       "</div>"
      ],
      "text/plain": [
       "               tmax          tmin        precip        nevada    prof_nieve\n",
       "count  2.778702e+06  2.778702e+06  2.778702e+06  2.778702e+06  2.778702e+06\n",
       "mean   2.001745e+02  9.876497e+01  1.643283e+01  2.929425e-04  4.788466e-01\n",
       "std    7.857347e+01  6.783950e+01  5.910200e+01  1.299941e-01  1.830345e+01\n",
       "min   -1.960000e+02 -3.000000e+02  0.000000e+00  0.000000e+00  0.000000e+00\n",
       "25%    1.450000e+02  5.000000e+01  0.000000e+00  0.000000e+00  0.000000e+00\n",
       "50%    2.000000e+02  1.000000e+02  0.000000e+00  0.000000e+00  0.000000e+00\n",
       "75%    2.570000e+02  1.500000e+02  1.000000e+00  0.000000e+00  0.000000e+00\n",
       "max    4.720000e+02  3.320000e+02  3.600000e+03  1.190000e+02  2.499000e+03"
      ]
     },
     "execution_count": 15,
     "metadata": {},
     "output_type": "execute_result"
    }
   ],
   "source": [
    "datos.describe()"
   ]
  },
  {
   "cell_type": "markdown",
   "id": "plain-measurement",
   "metadata": {},
   "source": [
    "# Transformación\n",
    "\n",
    "* Generar medias semanales.\n",
    "* Elimina observaciones con nulos, es decir, semanas donde no hay datos registrados.\n",
    "* Agrega geolocalización.\n",
    "* Crea nueva columna `semana`."
   ]
  },
  {
   "cell_type": "code",
   "execution_count": 16,
   "id": "persistent-botswana",
   "metadata": {},
   "outputs": [],
   "source": [
    "# Agrupo por estación (level=0) y calculo la media mensual por el campo fecha (level=1).\n",
    "datos_semana = datos.groupby(level=0).resample(\"W\", level=1).mean().round(decimals=0)"
   ]
  },
  {
   "cell_type": "code",
   "execution_count": 17,
   "id": "christian-dominant",
   "metadata": {},
   "outputs": [
    {
     "name": "stdout",
     "output_type": "stream",
     "text": [
      "tmax                          : 5.96%\n",
      "tmin                          : 5.96%\n",
      "precip                        : 5.96%\n",
      "nevada                        : 5.96%\n",
      "prof_nieve                    : 5.96%\n"
     ]
    }
   ],
   "source": [
    "show_missing_percentage(datos_semana, 0)"
   ]
  },
  {
   "cell_type": "code",
   "execution_count": 18,
   "id": "stupid-multiple",
   "metadata": {},
   "outputs": [],
   "source": [
    "# Elimina nulos.\n",
    "datos_semana.dropna(how=\"all\", inplace=True)"
   ]
  },
  {
   "cell_type": "code",
   "execution_count": 19,
   "id": "floral-batman",
   "metadata": {},
   "outputs": [
    {
     "name": "stdout",
     "output_type": "stream",
     "text": [
      "Ninguna variable tiene valores perdidos por encima del 0%\n"
     ]
    }
   ],
   "source": [
    "show_missing_percentage(datos_semana, 0)"
   ]
  },
  {
   "cell_type": "code",
   "execution_count": 20,
   "id": "opposed-gregory",
   "metadata": {},
   "outputs": [],
   "source": [
    "# Genera nueva columna `mes`.\n",
    "datos_semana.reset_index(inplace=True)\n",
    "datos_semana.insert(2, \"fecha_cnt\", datos_semana[\"fecha\"].dt.isocalendar().week)"
   ]
  },
  {
   "cell_type": "code",
   "execution_count": 21,
   "id": "olive-grenada",
   "metadata": {},
   "outputs": [],
   "source": [
    "# Agrega datos geolocalización.\n",
    "datos_geo = datos_semana.join(\n",
    "    estaciones[[\"longitud\", \"latitud\", \"altitud\"]],\n",
    "    how=\"left\",\n",
    "    on=\"id_estacion\"\n",
    ")"
   ]
  },
  {
   "cell_type": "code",
   "execution_count": 22,
   "id": "competitive-burden",
   "metadata": {},
   "outputs": [
    {
     "name": "stdout",
     "output_type": "stream",
     "text": [
      "<class 'pandas.core.frame.DataFrame'>\n",
      "RangeIndex: 408663 entries, 0 to 408662\n",
      "Data columns (total 11 columns):\n",
      " #   Column       Non-Null Count   Dtype         \n",
      "---  ------       --------------   -----         \n",
      " 0   id_estacion  408663 non-null  object        \n",
      " 1   fecha        408663 non-null  datetime64[ns]\n",
      " 2   fecha_cnt    408663 non-null  UInt32        \n",
      " 3   tmax         408663 non-null  float64       \n",
      " 4   tmin         408663 non-null  float64       \n",
      " 5   precip       408663 non-null  float64       \n",
      " 6   nevada       408663 non-null  float64       \n",
      " 7   prof_nieve   408663 non-null  float64       \n",
      " 8   longitud     408663 non-null  float64       \n",
      " 9   latitud      408663 non-null  float64       \n",
      " 10  altitud      408663 non-null  float64       \n",
      "dtypes: UInt32(1), datetime64[ns](1), float64(8), object(1)\n",
      "memory usage: 33.1+ MB\n"
     ]
    }
   ],
   "source": [
    "datos_geo.info()"
   ]
  },
  {
   "cell_type": "code",
   "execution_count": 23,
   "id": "french-kitty",
   "metadata": {},
   "outputs": [
    {
     "data": {
      "text/html": [
       "<div>\n",
       "<style scoped>\n",
       "    .dataframe tbody tr th:only-of-type {\n",
       "        vertical-align: middle;\n",
       "    }\n",
       "\n",
       "    .dataframe tbody tr th {\n",
       "        vertical-align: top;\n",
       "    }\n",
       "\n",
       "    .dataframe thead th {\n",
       "        text-align: right;\n",
       "    }\n",
       "</style>\n",
       "<table border=\"1\" class=\"dataframe\">\n",
       "  <thead>\n",
       "    <tr style=\"text-align: right;\">\n",
       "      <th></th>\n",
       "      <th>id_estacion</th>\n",
       "      <th>fecha</th>\n",
       "      <th>fecha_cnt</th>\n",
       "      <th>tmax</th>\n",
       "      <th>tmin</th>\n",
       "      <th>precip</th>\n",
       "      <th>nevada</th>\n",
       "      <th>prof_nieve</th>\n",
       "      <th>longitud</th>\n",
       "      <th>latitud</th>\n",
       "      <th>altitud</th>\n",
       "    </tr>\n",
       "  </thead>\n",
       "  <tbody>\n",
       "    <tr>\n",
       "      <th>0</th>\n",
       "      <td>SP000003195</td>\n",
       "      <td>1920-01-04</td>\n",
       "      <td>1</td>\n",
       "      <td>96.0</td>\n",
       "      <td>41.0</td>\n",
       "      <td>4.0</td>\n",
       "      <td>0.0</td>\n",
       "      <td>0.0</td>\n",
       "      <td>40.4117</td>\n",
       "      <td>-3.6781</td>\n",
       "      <td>667.0</td>\n",
       "    </tr>\n",
       "    <tr>\n",
       "      <th>1</th>\n",
       "      <td>SP000003195</td>\n",
       "      <td>1920-01-11</td>\n",
       "      <td>2</td>\n",
       "      <td>81.0</td>\n",
       "      <td>5.0</td>\n",
       "      <td>0.0</td>\n",
       "      <td>0.0</td>\n",
       "      <td>0.0</td>\n",
       "      <td>40.4117</td>\n",
       "      <td>-3.6781</td>\n",
       "      <td>667.0</td>\n",
       "    </tr>\n",
       "    <tr>\n",
       "      <th>2</th>\n",
       "      <td>SP000003195</td>\n",
       "      <td>1920-01-18</td>\n",
       "      <td>3</td>\n",
       "      <td>117.0</td>\n",
       "      <td>21.0</td>\n",
       "      <td>0.0</td>\n",
       "      <td>0.0</td>\n",
       "      <td>0.0</td>\n",
       "      <td>40.4117</td>\n",
       "      <td>-3.6781</td>\n",
       "      <td>667.0</td>\n",
       "    </tr>\n",
       "    <tr>\n",
       "      <th>3</th>\n",
       "      <td>SP000003195</td>\n",
       "      <td>1920-01-25</td>\n",
       "      <td>4</td>\n",
       "      <td>118.0</td>\n",
       "      <td>19.0</td>\n",
       "      <td>0.0</td>\n",
       "      <td>0.0</td>\n",
       "      <td>0.0</td>\n",
       "      <td>40.4117</td>\n",
       "      <td>-3.6781</td>\n",
       "      <td>667.0</td>\n",
       "    </tr>\n",
       "    <tr>\n",
       "      <th>4</th>\n",
       "      <td>SP000003195</td>\n",
       "      <td>1920-02-01</td>\n",
       "      <td>5</td>\n",
       "      <td>106.0</td>\n",
       "      <td>31.0</td>\n",
       "      <td>2.0</td>\n",
       "      <td>0.0</td>\n",
       "      <td>0.0</td>\n",
       "      <td>40.4117</td>\n",
       "      <td>-3.6781</td>\n",
       "      <td>667.0</td>\n",
       "    </tr>\n",
       "    <tr>\n",
       "      <th>...</th>\n",
       "      <td>...</td>\n",
       "      <td>...</td>\n",
       "      <td>...</td>\n",
       "      <td>...</td>\n",
       "      <td>...</td>\n",
       "      <td>...</td>\n",
       "      <td>...</td>\n",
       "      <td>...</td>\n",
       "      <td>...</td>\n",
       "      <td>...</td>\n",
       "      <td>...</td>\n",
       "    </tr>\n",
       "    <tr>\n",
       "      <th>408658</th>\n",
       "      <td>SPW00014011</td>\n",
       "      <td>1967-12-03</td>\n",
       "      <td>48</td>\n",
       "      <td>126.0</td>\n",
       "      <td>22.0</td>\n",
       "      <td>1.0</td>\n",
       "      <td>0.0</td>\n",
       "      <td>0.0</td>\n",
       "      <td>40.4833</td>\n",
       "      <td>-3.4500</td>\n",
       "      <td>608.1</td>\n",
       "    </tr>\n",
       "    <tr>\n",
       "      <th>408659</th>\n",
       "      <td>SPW00014011</td>\n",
       "      <td>1967-12-10</td>\n",
       "      <td>49</td>\n",
       "      <td>87.0</td>\n",
       "      <td>-13.0</td>\n",
       "      <td>0.0</td>\n",
       "      <td>0.0</td>\n",
       "      <td>0.0</td>\n",
       "      <td>40.4833</td>\n",
       "      <td>-3.4500</td>\n",
       "      <td>608.1</td>\n",
       "    </tr>\n",
       "    <tr>\n",
       "      <th>408660</th>\n",
       "      <td>SPW00014011</td>\n",
       "      <td>1967-12-17</td>\n",
       "      <td>50</td>\n",
       "      <td>64.0</td>\n",
       "      <td>-60.0</td>\n",
       "      <td>0.0</td>\n",
       "      <td>0.0</td>\n",
       "      <td>0.0</td>\n",
       "      <td>40.4833</td>\n",
       "      <td>-3.4500</td>\n",
       "      <td>608.1</td>\n",
       "    </tr>\n",
       "    <tr>\n",
       "      <th>408661</th>\n",
       "      <td>SPW00014011</td>\n",
       "      <td>1967-12-24</td>\n",
       "      <td>51</td>\n",
       "      <td>64.0</td>\n",
       "      <td>-16.0</td>\n",
       "      <td>2.0</td>\n",
       "      <td>0.0</td>\n",
       "      <td>0.0</td>\n",
       "      <td>40.4833</td>\n",
       "      <td>-3.4500</td>\n",
       "      <td>608.1</td>\n",
       "    </tr>\n",
       "    <tr>\n",
       "      <th>408662</th>\n",
       "      <td>SPW00014011</td>\n",
       "      <td>1967-12-31</td>\n",
       "      <td>52</td>\n",
       "      <td>82.0</td>\n",
       "      <td>-19.0</td>\n",
       "      <td>0.0</td>\n",
       "      <td>0.0</td>\n",
       "      <td>0.0</td>\n",
       "      <td>40.4833</td>\n",
       "      <td>-3.4500</td>\n",
       "      <td>608.1</td>\n",
       "    </tr>\n",
       "  </tbody>\n",
       "</table>\n",
       "<p>408663 rows × 11 columns</p>\n",
       "</div>"
      ],
      "text/plain": [
       "        id_estacion      fecha  fecha_cnt   tmax  tmin  precip  nevada  \\\n",
       "0       SP000003195 1920-01-04          1   96.0  41.0     4.0     0.0   \n",
       "1       SP000003195 1920-01-11          2   81.0   5.0     0.0     0.0   \n",
       "2       SP000003195 1920-01-18          3  117.0  21.0     0.0     0.0   \n",
       "3       SP000003195 1920-01-25          4  118.0  19.0     0.0     0.0   \n",
       "4       SP000003195 1920-02-01          5  106.0  31.0     2.0     0.0   \n",
       "...             ...        ...        ...    ...   ...     ...     ...   \n",
       "408658  SPW00014011 1967-12-03         48  126.0  22.0     1.0     0.0   \n",
       "408659  SPW00014011 1967-12-10         49   87.0 -13.0     0.0     0.0   \n",
       "408660  SPW00014011 1967-12-17         50   64.0 -60.0     0.0     0.0   \n",
       "408661  SPW00014011 1967-12-24         51   64.0 -16.0     2.0     0.0   \n",
       "408662  SPW00014011 1967-12-31         52   82.0 -19.0     0.0     0.0   \n",
       "\n",
       "        prof_nieve  longitud  latitud  altitud  \n",
       "0              0.0   40.4117  -3.6781    667.0  \n",
       "1              0.0   40.4117  -3.6781    667.0  \n",
       "2              0.0   40.4117  -3.6781    667.0  \n",
       "3              0.0   40.4117  -3.6781    667.0  \n",
       "4              0.0   40.4117  -3.6781    667.0  \n",
       "...            ...       ...      ...      ...  \n",
       "408658         0.0   40.4833  -3.4500    608.1  \n",
       "408659         0.0   40.4833  -3.4500    608.1  \n",
       "408660         0.0   40.4833  -3.4500    608.1  \n",
       "408661         0.0   40.4833  -3.4500    608.1  \n",
       "408662         0.0   40.4833  -3.4500    608.1  \n",
       "\n",
       "[408663 rows x 11 columns]"
      ]
     },
     "execution_count": 23,
     "metadata": {},
     "output_type": "execute_result"
    }
   ],
   "source": [
    "datos_geo"
   ]
  },
  {
   "cell_type": "code",
   "execution_count": 24,
   "id": "mature-inflation",
   "metadata": {},
   "outputs": [
    {
     "name": "stdout",
     "output_type": "stream",
     "text": [
      "Ninguna variable tiene valores perdidos por encima del 0%\n"
     ]
    }
   ],
   "source": [
    "show_missing_percentage(datos_geo, 0)"
   ]
  },
  {
   "cell_type": "markdown",
   "id": "selected-minnesota",
   "metadata": {},
   "source": [
    "# Dataframe a disco"
   ]
  },
  {
   "cell_type": "code",
   "execution_count": 25,
   "id": "smart-association",
   "metadata": {},
   "outputs": [],
   "source": [
    "datos_geo.to_csv(\"{}/{}\".format(DATA_PROCESSED_PATH, \"datos_semana.csv.xz\"),\n",
    "                 index=False,\n",
    "                 sep = \";\")"
   ]
  }
 ],
 "metadata": {
  "kernelspec": {
   "display_name": "Python 3",
   "language": "python",
   "name": "python3"
  },
  "language_info": {
   "codemirror_mode": {
    "name": "ipython",
    "version": 3
   },
   "file_extension": ".py",
   "mimetype": "text/x-python",
   "name": "python",
   "nbconvert_exporter": "python",
   "pygments_lexer": "ipython3",
   "version": "3.8.8"
  }
 },
 "nbformat": 4,
 "nbformat_minor": 5
}
