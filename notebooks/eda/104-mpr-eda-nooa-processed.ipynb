{
 "cells": [
  {
   "cell_type": "code",
   "execution_count": 1,
   "id": "injured-spoke",
   "metadata": {},
   "outputs": [],
   "source": [
    "import numpy as np\n",
    "import pandas as pd\n",
    "\n",
    "import matplotlib.pyplot as plt\n",
    "plt.style.use('fivethirtyeight')\n",
    "plt.rcParams['figure.figsize'] = [15, 8]\n",
    "\n",
    "import seaborn as sns\n",
    "sns.set(style=\"ticks\")"
   ]
  },
  {
   "cell_type": "code",
   "execution_count": 2,
   "id": "mechanical-monster",
   "metadata": {},
   "outputs": [
    {
     "name": "stdout",
     "output_type": "stream",
     "text": [
      "Dimensiones: (2778702, 11)\n"
     ]
    }
   ],
   "source": [
    "# Directorio donde se encuentran los datos.\n",
    "DATA_PROCESSED_PATH = \"../../data/processed/nooa/spain\"\n",
    "\n",
    "# Nombre del fichero CSV de entrada.\n",
    "FILE_DATOS = \"datos_dia.csv.xz\"\n",
    "\n",
    "# Lectura y carga de los datos a un DataFrame pandas.\n",
    "datos = pd.read_csv(\"{}/{}\".format(DATA_PROCESSED_PATH, FILE_DATOS),\n",
    "                    sep = \";\",\n",
    "                    parse_dates = [\"fecha\"],\n",
    "                    infer_datetime_format = True)\n",
    "\n",
    "print(f\"Dimensiones: {datos.shape}\")"
   ]
  },
  {
   "cell_type": "code",
   "execution_count": 3,
   "id": "liable-easter",
   "metadata": {},
   "outputs": [
    {
     "data": {
      "application/vnd.jupyter.widget-view+json": {
       "model_id": "01db06f03974439ba8cc9a4cfc337867",
       "version_major": 2,
       "version_minor": 0
      },
      "text/plain": [
       "Summarize dataset:   0%|          | 0/24 [00:00<?, ?it/s]"
      ]
     },
     "metadata": {},
     "output_type": "display_data"
    },
    {
     "name": "stderr",
     "output_type": "stream",
     "text": [
      "/opt/conda/lib/python3.8/site-packages/scipy/stats/stats.py:4594: RuntimeWarning: overflow encountered in long_scalars\n",
      "  (2 * xtie * ytie) / m + x0 * y0 / (9 * m * (size - 2)))\n",
      "/opt/conda/lib/python3.8/site-packages/scipy/stats/stats.py:4596: RuntimeWarning: invalid value encountered in sqrt\n",
      "  np.sqrt(var) / np.sqrt(2)))\n"
     ]
    },
    {
     "data": {
      "application/vnd.jupyter.widget-view+json": {
       "model_id": "f150af9663b64ac780c0b2cda4e5b07c",
       "version_major": 2,
       "version_minor": 0
      },
      "text/plain": [
       "Generate report structure:   0%|          | 0/1 [00:00<?, ?it/s]"
      ]
     },
     "metadata": {},
     "output_type": "display_data"
    },
    {
     "data": {
      "application/vnd.jupyter.widget-view+json": {
       "model_id": "779481d6f40b4ff786e56e10c6ffbc9b",
       "version_major": 2,
       "version_minor": 0
      },
      "text/plain": [
       "Render HTML:   0%|          | 0/1 [00:00<?, ?it/s]"
      ]
     },
     "metadata": {},
     "output_type": "display_data"
    },
    {
     "data": {
      "application/vnd.jupyter.widget-view+json": {
       "model_id": "866b3e3ff7bf416891b0f9da7f7468f6",
       "version_major": 2,
       "version_minor": 0
      },
      "text/plain": [
       "Export report to file:   0%|          | 0/1 [00:00<?, ?it/s]"
      ]
     },
     "metadata": {},
     "output_type": "display_data"
    }
   ],
   "source": [
    "# Whole dataframe.\n",
    "from pandas_profiling import ProfileReport\n",
    "profile = ProfileReport(datos, title='Pandas Profiling Report: {}'.format(\"NOOA - Estaciones de España (Día)\"))\n",
    "profile.to_file(\"{}.html\".format(\"nooa-spain-eda-processed-dia\"))"
   ]
  }
 ],
 "metadata": {
  "kernelspec": {
   "display_name": "Python 3",
   "language": "python",
   "name": "python3"
  },
  "language_info": {
   "codemirror_mode": {
    "name": "ipython",
    "version": 3
   },
   "file_extension": ".py",
   "mimetype": "text/x-python",
   "name": "python",
   "nbconvert_exporter": "python",
   "pygments_lexer": "ipython3",
   "version": "3.8.8"
  }
 },
 "nbformat": 4,
 "nbformat_minor": 5
}
