{
 "cells": [
  {
   "cell_type": "code",
   "execution_count": 1,
   "id": "peaceful-fields",
   "metadata": {},
   "outputs": [],
   "source": [
    "import numpy as np\n",
    "import pandas as pd\n",
    "\n",
    "import matplotlib.pyplot as plt\n",
    "plt.style.use('fivethirtyeight')\n",
    "plt.rcParams['figure.figsize'] = [15, 8]\n",
    "\n",
    "import seaborn as sns\n",
    "sns.set(style=\"ticks\")"
   ]
  },
  {
   "cell_type": "code",
   "execution_count": 2,
   "id": "infinite-index",
   "metadata": {},
   "outputs": [
    {
     "name": "stdout",
     "output_type": "stream",
     "text": [
      "Dimensiones: (2953942, 7)\n"
     ]
    }
   ],
   "source": [
    "# Directorio donde se encuentran los datos.\n",
    "DATA_RAW_PATH = \"../../data/raw/nooa/spain\"\n",
    "\n",
    "# Nombre del fichero CSV de entrada.\n",
    "FILE_ESTACIONES = \"estaciones.csv.xz\"\n",
    "FILE_DATOS = \"datos.csv.xz\"\n",
    "\n",
    "columns = [\n",
    "    \"estacion\",\n",
    "    \"fecha\",\n",
    "    \"tmax\",\n",
    "    \"tmin\",\n",
    "    \"precip\",\n",
    "    \"nevada\",\n",
    "    \"prof_nieve\"\n",
    "]\n",
    "\n",
    "# Lectura y carga de los datos a un DataFrame pandas.\n",
    "datos = pd.read_csv(\"{}/{}\".format(DATA_RAW_PATH, FILE_DATOS),\n",
    "                    sep = \";\",\n",
    "                    header=None,\n",
    "                    names = columns,\n",
    "                    parse_dates = [\"fecha\"],\n",
    "                    infer_datetime_format = True,\n",
    "                    compression=\"xz\")\n",
    "\n",
    "print(f\"Dimensiones: {datos.shape}\")"
   ]
  },
  {
   "cell_type": "code",
   "execution_count": 3,
   "id": "tested-syria",
   "metadata": {},
   "outputs": [
    {
     "data": {
      "application/vnd.jupyter.widget-view+json": {
       "model_id": "108315811c8547889fc634a6ca5a07c3",
       "version_major": 2,
       "version_minor": 0
      },
      "text/plain": [
       "Summarize dataset:   0%|          | 0/20 [00:00<?, ?it/s]"
      ]
     },
     "metadata": {},
     "output_type": "display_data"
    },
    {
     "name": "stderr",
     "output_type": "stream",
     "text": [
      "/opt/conda/lib/python3.8/site-packages/scipy/stats/stats.py:4594: RuntimeWarning: overflow encountered in long_scalars\n",
      "  (2 * xtie * ytie) / m + x0 * y0 / (9 * m * (size - 2)))\n"
     ]
    },
    {
     "data": {
      "application/vnd.jupyter.widget-view+json": {
       "model_id": "283fee65b1c640848dd7624caa260c8a",
       "version_major": 2,
       "version_minor": 0
      },
      "text/plain": [
       "Generate report structure:   0%|          | 0/1 [00:00<?, ?it/s]"
      ]
     },
     "metadata": {},
     "output_type": "display_data"
    },
    {
     "data": {
      "application/vnd.jupyter.widget-view+json": {
       "model_id": "87d2c5f033a4439bb198de6737a7c2a7",
       "version_major": 2,
       "version_minor": 0
      },
      "text/plain": [
       "Render HTML:   0%|          | 0/1 [00:00<?, ?it/s]"
      ]
     },
     "metadata": {},
     "output_type": "display_data"
    },
    {
     "data": {
      "application/vnd.jupyter.widget-view+json": {
       "model_id": "20482d0f908f422c9922cfc8290aaa70",
       "version_major": 2,
       "version_minor": 0
      },
      "text/plain": [
       "Export report to file:   0%|          | 0/1 [00:00<?, ?it/s]"
      ]
     },
     "metadata": {},
     "output_type": "display_data"
    }
   ],
   "source": [
    "# Whole dataframe.\n",
    "from pandas_profiling import ProfileReport\n",
    "profile = ProfileReport(datos, title='Pandas Profiling Report: {}'.format(\"NOOA - Estaciones de España\"))\n",
    "profile.to_file(\"{}.html\".format(\"nooa-spain-eda\"))"
   ]
  }
 ],
 "metadata": {
  "kernelspec": {
   "display_name": "Python 3",
   "language": "python",
   "name": "python3"
  },
  "language_info": {
   "codemirror_mode": {
    "name": "ipython",
    "version": 3
   },
   "file_extension": ".py",
   "mimetype": "text/x-python",
   "name": "python",
   "nbconvert_exporter": "python",
   "pygments_lexer": "ipython3",
   "version": "3.8.8"
  }
 },
 "nbformat": 4,
 "nbformat_minor": 5
}
